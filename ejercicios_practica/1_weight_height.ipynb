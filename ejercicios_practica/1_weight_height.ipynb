{
  "cells": [
    {
      "cell_type": "markdown",
      "metadata": {
        "id": "Ea9CPlvttQda"
      },
      "source": [
        "<a href=\"https://www.inove.com.ar\"><img src=\"https://raw.githubusercontent.com/InoveAlumnos/dataset_analytics_python/master/images/PA%20Banner.png\" width=\"1000\" align=\"center\"></a>\n",
        "\n",
        "\n",
        "# Ejercicios de Regresión\n",
        "\n",
        "Ejemplo de regresión utilizando el dataset recolecado de pesos y estaturas de personas<br>\n",
        "\n",
        "[Dataset source](http://wiki.stat.ucla.edu/socr/index.php/SOCR_Data_Dinov_020108_HeightsWeights)\n",
        "\n",
        "v1.1"
      ]
    },
    {
      "cell_type": "code",
      "execution_count": null,
      "metadata": {
        "id": "xJN8ND5ctQdc"
      },
      "outputs": [],
      "source": [
        "import os\n",
        "import platform\n",
        "\n",
        "import numpy as np\n",
        "import matplotlib.pyplot as plt\n",
        "import seaborn as sns\n",
        "import pandas as pd"
      ]
    },
    {
      "cell_type": "markdown",
      "metadata": {
        "id": "v-jK-TsQCwW9"
      },
      "source": [
        "# Recolectar datos\n",
        "<img src=\"https://raw.githubusercontent.com/InoveAlumnos/dataset_analytics_python/master/images/Pipeline1.png\" width=\"1000\" align=\"middle\">"
      ]
    },
    {
      "cell_type": "code",
      "execution_count": null,
      "metadata": {
        "id": "j9x_YEdTtQeC",
        "tags": []
      },
      "outputs": [],
      "source": [
        "if os.access('weight_height.csv', os.F_OK) is False:\n",
        "    if platform.system() == 'Windows':\n",
        "        !curl https://raw.githubusercontent.com/InoveAlumnos/dataset_analytics_python/master/weight_height.csv > weight_height.csv\n",
        "    else:\n",
        "        !wget weight_height.csv https://raw.githubusercontent.com/InoveAlumnos/dataset_analytics_python/master/weight_height.csv"
      ]
    },
    {
      "cell_type": "markdown",
      "metadata": {
        "id": "Q5I6l8ZCFaZ8"
      },
      "source": [
        "# Procesar datos\n",
        "<img src=\"https://raw.githubusercontent.com/InoveAlumnos/dataset_analytics_python/master/images/Pipeline2.png\" width=\"1000\" align=\"middle\">"
      ]
    },
    {
      "cell_type": "code",
      "execution_count": null,
      "metadata": {
        "id": "RQgSiWHXFWQD"
      },
      "outputs": [],
      "source": [
        "# Alumno, realice una inspeccion del dataset en búsqueda de elementos faltantes\n",
        "df =pd.read_csv('weight_height.csv')\n",
        "df.info()\n",
        "df.describe()\n",
        "df.head()"
      ]
    },
    {
      "cell_type": "code",
      "execution_count": null,
      "metadata": {
        "id": "5AAORpEFw6iI"
      },
      "outputs": [],
      "source": [
        "# Alumno, en caso de encontrarse elementos faltantes,\n",
        "# elimine aquellas filas que tengan columnas vacias\n",
        "# Escriba el procedimiento tenga o no elementos faltantes\n",
        "\n",
        "df.dropna(inplace=True)\n",
        "df.info()"
      ]
    },
    {
      "cell_type": "code",
      "execution_count": null,
      "metadata": {
        "id": "yVdxZvGKFvM9"
      },
      "outputs": [],
      "source": [
        "# Alumno, inspeccione el dataset, visualice las columnas que posee y sus primeras filas\n",
        "df.head()\n"
      ]
    },
    {
      "cell_type": "code",
      "execution_count": null,
      "metadata": {
        "id": "NXJ9syd0xfRJ"
      },
      "outputs": [],
      "source": [
        "# Alumno: copie los datos a un nuevo dataset (df2), pero ahora transforme las columnas en\n",
        "# peso --> proveniente de Weight, debe pasar de libras a kilogramos\n",
        "# altura --> proveniente de Height, debe pasar de pulgadas a metros\n",
        "# sexo --> masculino (proveniente de Male) y femenino (proveniente de Female)\n",
        "df2= df.copy()\n",
        "df2[\"Weight\"] = df2[\"Weight\"]*0.453592\n",
        "df2[\"Height\"] = df2[\"Height\"]*0.0254\n",
        "df2[\"Gender\"] = df2[\"Gender\"].replace(\"Male\",\"Masculino\")\n",
        "df2[\"Gender\"] = df2[\"Gender\"].replace(\"Female\",\"Femenino\")\n",
        "df2.head()"
      ]
    },
    {
      "cell_type": "code",
      "source": [
        "# prompt: alumno especifique cuantas filas se poseen para analizar\n",
        "\n",
        "print('Cantidad de filas:', df2.shape[0])\n"
      ],
      "metadata": {
        "id": "TF3WyiXiEn3X"
      },
      "execution_count": null,
      "outputs": []
    },
    {
      "cell_type": "code",
      "execution_count": null,
      "metadata": {
        "id": "XPQ2CtCGL3Zn"
      },
      "outputs": [],
      "source": [
        "# Fin de la limpieza, alumno especifique cuantas filas se poseen para analizar\n",
        "print (\"cantidad de filas;\", df2.shape[0])"
      ]
    },
    {
      "cell_type": "markdown",
      "metadata": {
        "id": "8T_3enyVHYJa"
      },
      "source": [
        "# Explorar datos\n",
        "<img src=\"https://raw.githubusercontent.com/InoveAlumnos/dataset_analytics_python/master/images/Pipeline3.png\" width=\"1000\" align=\"middle\">"
      ]
    },
    {
      "cell_type": "code",
      "execution_count": null,
      "metadata": {
        "id": "tvdCv6nCxZYF"
      },
      "outputs": [],
      "source": [
        "# Alumno graficar el peso (y) en función de la altura (x) pero para ambos sexos por separados\n",
        "# Se debe realizar todo en un mismo \"ax\", cada scatter plot con diferente color para ver los dos grupos\n",
        "ax = sns.scatterplot(data=df2, x=\"Height\", y=\"Weight\", hue=\"Gender\")\n"
      ]
    },
    {
      "cell_type": "code",
      "execution_count": null,
      "metadata": {
        "id": "OW81C2zxfH3t"
      },
      "outputs": [],
      "source": [
        "# Alumno: Dibujar la distribucion (histograma) de la altura en hombres\n",
        "# Además, imprimir en pantalla el valor medio\n",
        "\n",
        "valor_promedio= df2[df2[\"Gender\"]==\"Masculino\"][\"Height\"].mean()\n",
        "print (valor promedio)"
      ]
    },
    {
      "cell_type": "code",
      "execution_count": null,
      "metadata": {
        "id": "TLi1hbpf0ZsV"
      },
      "outputs": [],
      "source": [
        "# Alumno: porque no prueba la función displot de seaborn que acepta\n",
        "# \"colorear\" según la categoría deseada.\n",
        "# Ingresar parámetros= data=df2, x=\"altura\", hue=\"sexo\"\n",
        "sns.displot(data=df2, x=\"Height\", hue=\"Gender\")"
      ]
    },
    {
      "cell_type": "markdown",
      "metadata": {
        "id": "APXYUcIdiDHh"
      },
      "source": [
        "# Entrenar modelo\n",
        "<img src=\"https://raw.githubusercontent.com/InoveAlumnos/dataset_analytics_python/master/images/Pipeline4.png\" width=\"1000\" align=\"middle\">"
      ]
    },
    {
      "cell_type": "markdown",
      "metadata": {
        "id": "8y9xIL_0iE5N"
      },
      "source": [
        "Alumno:<br>\n",
        "Para esta regresión se utilizará como variable de entrada el peso (X) y como salida la altura (y). Crear el modelo de regresión lineal que sea de su agrado o invierta las variables de salida y entrada si así lo prefiere. Debe elegir trabajar con los datos de sexo masculino o femenino, o duplicar el trabajo y realizar ambos.<br>\n",
        "Pasor a seguir:\n",
        "- Obtener las variables X e y (para masculino y/o femenino)\n",
        "- Dividir el dataset en train y test 70%30%\n",
        "- Entrenar un modelo de regresión\n",
        "- Calcular la métrica r2_score del modelo (y_hat vs y_test)\n",
        "- Dibujar el resultado de la regresion sobre los datos de entrada\n",
        "\n",
        "\n"
      ]
    },
    {
      "cell_type": "code",
      "source": [
        "\n"
      ],
      "metadata": {
        "id": "v84nUO-DptcJ"
      },
      "execution_count": null,
      "outputs": []
    },
    {
      "cell_type": "code",
      "source": [],
      "metadata": {
        "id": "b8u9N3nI3U7g"
      },
      "execution_count": null,
      "outputs": []
    },
    {
      "cell_type": "markdown",
      "metadata": {
        "id": "L65NqXhOohII"
      },
      "source": [
        "# Validar modelo\n",
        "<img src=\"https://raw.githubusercontent.com/InoveAlumnos/dataset_analytics_python/master/images/Pipeline5.png\" width=\"1000\" align=\"middle\">"
      ]
    },
    {
      "cell_type": "markdown",
      "metadata": {
        "id": "C1Ndkl6uopBq"
      },
      "source": [
        "# Utilizar modelo\n",
        "<img src=\"https://raw.githubusercontent.com/InoveAlumnos/dataset_analytics_python/master/images/Pipeline6.png\" width=\"1000\" align=\"middle\">"
      ]
    }
  ],
  "metadata": {
    "colab": {
      "provenance": []
    },
    "kernelspec": {
      "display_name": "Python 3",
      "language": "python",
      "name": "python3"
    },
    "language_info": {
      "codemirror_mode": {
        "name": "ipython",
        "version": 3
      },
      "file_extension": ".py",
      "mimetype": "text/x-python",
      "name": "python",
      "nbconvert_exporter": "python",
      "pygments_lexer": "ipython3",
      "version": "3.7.0"
    }
  },
  "nbformat": 4,
  "nbformat_minor": 0
}